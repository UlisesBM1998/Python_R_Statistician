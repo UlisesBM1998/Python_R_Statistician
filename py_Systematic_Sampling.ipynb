{
 "cells": [
  {
   "cell_type": "markdown",
   "id": "fbe8d394",
   "metadata": {},
   "source": [
    "# IMPORTING LIBRARIES"
   ]
  },
  {
   "cell_type": "code",
   "execution_count": 1,
   "id": "3b423c7d",
   "metadata": {},
   "outputs": [],
   "source": [
    "import math\n",
    "import numpy as np\n",
    "import pandas as pd"
   ]
  },
  {
   "cell_type": "markdown",
   "id": "33b0dccd",
   "metadata": {},
   "source": [
    "From 0 to 150, we are going to grab 15 examples by incrementing by 10 by 10."
   ]
  },
  {
   "cell_type": "code",
   "execution_count": 3,
   "id": "3eb59095",
   "metadata": {},
   "outputs": [
    {
     "name": "stdout",
     "output_type": "stream",
     "text": [
      "10\n"
     ]
    }
   ],
   "source": [
    "population = 150\n",
    "sampling = 15\n",
    "k = math.ceil(population/ sampling)\n",
    "print(k)"
   ]
  },
  {
   "cell_type": "markdown",
   "id": "a8188c19",
   "metadata": {},
   "source": [
    "Randomly, we are going to pick the first number of the sampling. In this case is eight."
   ]
  },
  {
   "cell_type": "code",
   "execution_count": 4,
   "id": "2c7af0a2",
   "metadata": {},
   "outputs": [
    {
     "data": {
      "text/plain": [
       "array([8])"
      ]
     },
     "execution_count": 4,
     "metadata": {},
     "output_type": "execute_result"
    }
   ],
   "source": [
    "r = np.random.randint(low = 1, high=k+1, size=1)\n",
    "r"
   ]
  },
  {
   "cell_type": "markdown",
   "id": "d2105ad5",
   "metadata": {},
   "source": [
    "# MAKING THE DATASET"
   ]
  },
  {
   "cell_type": "markdown",
   "id": "e63a8054",
   "metadata": {},
   "source": [
    "By this loop, we get the list of numbers according to our needs. So starting by eight, they will sum up ten each loop."
   ]
  },
  {
   "cell_type": "code",
   "execution_count": 9,
   "id": "ab06cc86",
   "metadata": {},
   "outputs": [
    {
     "name": "stdout",
     "output_type": "stream",
     "text": [
      "[8, 18, 28, 38, 48, 58, 68, 78, 88, 98, 108, 118, 128, 138, 148]\n"
     ]
    }
   ],
   "source": [
    "accumulator = r[0]\n",
    "dataSelected = []\n",
    "\n",
    "for i in range(sampling):\n",
    "    dataSelected.append(accumulator)\n",
    "    accumulator = accumulator + k\n",
    "    \n",
    "print(dataSelected)"
   ]
  },
  {
   "cell_type": "markdown",
   "id": "3fe283f1",
   "metadata": {},
   "source": [
    "We export a dataset, and those numbers will be the index of it."
   ]
  },
  {
   "cell_type": "code",
   "execution_count": 10,
   "id": "42615f85",
   "metadata": {},
   "outputs": [
    {
     "data": {
      "text/html": [
       "<div>\n",
       "<style scoped>\n",
       "    .dataframe tbody tr th:only-of-type {\n",
       "        vertical-align: middle;\n",
       "    }\n",
       "\n",
       "    .dataframe tbody tr th {\n",
       "        vertical-align: top;\n",
       "    }\n",
       "\n",
       "    .dataframe thead th {\n",
       "        text-align: right;\n",
       "    }\n",
       "</style>\n",
       "<table border=\"1\" class=\"dataframe\">\n",
       "  <thead>\n",
       "    <tr style=\"text-align: right;\">\n",
       "      <th></th>\n",
       "      <th>sepal length</th>\n",
       "      <th>sepal width</th>\n",
       "      <th>petal length</th>\n",
       "      <th>petal width</th>\n",
       "      <th>class</th>\n",
       "    </tr>\n",
       "  </thead>\n",
       "  <tbody>\n",
       "    <tr>\n",
       "      <th>8</th>\n",
       "      <td>4.4</td>\n",
       "      <td>2.9</td>\n",
       "      <td>1.4</td>\n",
       "      <td>0.2</td>\n",
       "      <td>Iris-setosa</td>\n",
       "    </tr>\n",
       "    <tr>\n",
       "      <th>18</th>\n",
       "      <td>5.7</td>\n",
       "      <td>3.8</td>\n",
       "      <td>1.7</td>\n",
       "      <td>0.3</td>\n",
       "      <td>Iris-setosa</td>\n",
       "    </tr>\n",
       "    <tr>\n",
       "      <th>28</th>\n",
       "      <td>5.2</td>\n",
       "      <td>3.4</td>\n",
       "      <td>1.4</td>\n",
       "      <td>0.2</td>\n",
       "      <td>Iris-setosa</td>\n",
       "    </tr>\n",
       "    <tr>\n",
       "      <th>38</th>\n",
       "      <td>4.4</td>\n",
       "      <td>3.0</td>\n",
       "      <td>1.3</td>\n",
       "      <td>0.2</td>\n",
       "      <td>Iris-setosa</td>\n",
       "    </tr>\n",
       "    <tr>\n",
       "      <th>48</th>\n",
       "      <td>5.3</td>\n",
       "      <td>3.7</td>\n",
       "      <td>1.5</td>\n",
       "      <td>0.2</td>\n",
       "      <td>Iris-setosa</td>\n",
       "    </tr>\n",
       "    <tr>\n",
       "      <th>58</th>\n",
       "      <td>6.6</td>\n",
       "      <td>2.9</td>\n",
       "      <td>4.6</td>\n",
       "      <td>1.3</td>\n",
       "      <td>Iris-versicolor</td>\n",
       "    </tr>\n",
       "    <tr>\n",
       "      <th>68</th>\n",
       "      <td>6.2</td>\n",
       "      <td>2.2</td>\n",
       "      <td>4.5</td>\n",
       "      <td>1.5</td>\n",
       "      <td>Iris-versicolor</td>\n",
       "    </tr>\n",
       "    <tr>\n",
       "      <th>78</th>\n",
       "      <td>6.0</td>\n",
       "      <td>2.9</td>\n",
       "      <td>4.5</td>\n",
       "      <td>1.5</td>\n",
       "      <td>Iris-versicolor</td>\n",
       "    </tr>\n",
       "    <tr>\n",
       "      <th>88</th>\n",
       "      <td>5.6</td>\n",
       "      <td>3.0</td>\n",
       "      <td>4.1</td>\n",
       "      <td>1.3</td>\n",
       "      <td>Iris-versicolor</td>\n",
       "    </tr>\n",
       "    <tr>\n",
       "      <th>98</th>\n",
       "      <td>5.1</td>\n",
       "      <td>2.5</td>\n",
       "      <td>3.0</td>\n",
       "      <td>1.1</td>\n",
       "      <td>Iris-versicolor</td>\n",
       "    </tr>\n",
       "    <tr>\n",
       "      <th>108</th>\n",
       "      <td>6.7</td>\n",
       "      <td>2.5</td>\n",
       "      <td>5.8</td>\n",
       "      <td>1.8</td>\n",
       "      <td>Iris-virginica</td>\n",
       "    </tr>\n",
       "    <tr>\n",
       "      <th>118</th>\n",
       "      <td>7.7</td>\n",
       "      <td>2.6</td>\n",
       "      <td>6.9</td>\n",
       "      <td>2.3</td>\n",
       "      <td>Iris-virginica</td>\n",
       "    </tr>\n",
       "    <tr>\n",
       "      <th>128</th>\n",
       "      <td>6.4</td>\n",
       "      <td>2.8</td>\n",
       "      <td>5.6</td>\n",
       "      <td>2.1</td>\n",
       "      <td>Iris-virginica</td>\n",
       "    </tr>\n",
       "    <tr>\n",
       "      <th>138</th>\n",
       "      <td>6.0</td>\n",
       "      <td>3.0</td>\n",
       "      <td>4.8</td>\n",
       "      <td>1.8</td>\n",
       "      <td>Iris-virginica</td>\n",
       "    </tr>\n",
       "    <tr>\n",
       "      <th>148</th>\n",
       "      <td>6.2</td>\n",
       "      <td>3.4</td>\n",
       "      <td>5.4</td>\n",
       "      <td>2.3</td>\n",
       "      <td>Iris-virginica</td>\n",
       "    </tr>\n",
       "  </tbody>\n",
       "</table>\n",
       "</div>"
      ],
      "text/plain": [
       "     sepal length  sepal width  petal length  petal width            class\n",
       "8             4.4          2.9           1.4          0.2      Iris-setosa\n",
       "18            5.7          3.8           1.7          0.3      Iris-setosa\n",
       "28            5.2          3.4           1.4          0.2      Iris-setosa\n",
       "38            4.4          3.0           1.3          0.2      Iris-setosa\n",
       "48            5.3          3.7           1.5          0.2      Iris-setosa\n",
       "58            6.6          2.9           4.6          1.3  Iris-versicolor\n",
       "68            6.2          2.2           4.5          1.5  Iris-versicolor\n",
       "78            6.0          2.9           4.5          1.5  Iris-versicolor\n",
       "88            5.6          3.0           4.1          1.3  Iris-versicolor\n",
       "98            5.1          2.5           3.0          1.1  Iris-versicolor\n",
       "108           6.7          2.5           5.8          1.8   Iris-virginica\n",
       "118           7.7          2.6           6.9          2.3   Iris-virginica\n",
       "128           6.4          2.8           5.6          2.1   Iris-virginica\n",
       "138           6.0          3.0           4.8          1.8   Iris-virginica\n",
       "148           6.2          3.4           5.4          2.3   Iris-virginica"
      ]
     },
     "execution_count": 10,
     "metadata": {},
     "output_type": "execute_result"
    }
   ],
   "source": [
    "data = pd.read_csv(\"iris.csv\")\n",
    "dataFinal = data.loc[dataSelected]\n",
    "dataFinal"
   ]
  }
 ],
 "metadata": {
  "kernelspec": {
   "display_name": "Python 3 (ipykernel)",
   "language": "python",
   "name": "python3"
  },
  "language_info": {
   "codemirror_mode": {
    "name": "ipython",
    "version": 3
   },
   "file_extension": ".py",
   "mimetype": "text/x-python",
   "name": "python",
   "nbconvert_exporter": "python",
   "pygments_lexer": "ipython3",
   "version": "3.9.7"
  }
 },
 "nbformat": 4,
 "nbformat_minor": 5
}
