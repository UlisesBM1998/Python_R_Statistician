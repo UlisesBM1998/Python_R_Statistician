{
 "cells": [
  {
   "cell_type": "code",
   "execution_count": 1,
   "id": "777d5630",
   "metadata": {},
   "outputs": [],
   "source": [
    "from scipy.stats import poisson"
   ]
  },
  {
   "cell_type": "markdown",
   "id": "897d7bc3",
   "metadata": {},
   "source": [
    "The average of car crashing is 2 per day, what is the probability of 3?\n"
   ]
  },
  {
   "cell_type": "code",
   "execution_count": 3,
   "id": "b6176da3",
   "metadata": {},
   "outputs": [
    {
     "data": {
      "text/plain": [
       "0.18044704431548356"
      ]
     },
     "execution_count": 3,
     "metadata": {},
     "output_type": "execute_result"
    }
   ],
   "source": [
    "poisson.pmf(3,2)"
   ]
  },
  {
   "cell_type": "markdown",
   "id": "c4d14e24",
   "metadata": {},
   "source": [
    "The average of car crashing is 2 per day, what is the probability of less than 3?"
   ]
  },
  {
   "cell_type": "code",
   "execution_count": 4,
   "id": "ce63b819",
   "metadata": {},
   "outputs": [
    {
     "data": {
      "text/plain": [
       "0.857123460498547"
      ]
     },
     "execution_count": 4,
     "metadata": {},
     "output_type": "execute_result"
    }
   ],
   "source": [
    "poisson.cdf(3,2)"
   ]
  },
  {
   "cell_type": "markdown",
   "id": "0e2bef50",
   "metadata": {},
   "source": [
    "The average of car crashing is 2 per day, what is the probability of more than 3?"
   ]
  },
  {
   "cell_type": "code",
   "execution_count": 5,
   "id": "b51338e4",
   "metadata": {},
   "outputs": [
    {
     "data": {
      "text/plain": [
       "0.14287653950145296"
      ]
     },
     "execution_count": 5,
     "metadata": {},
     "output_type": "execute_result"
    }
   ],
   "source": [
    "poisson.sf(3,2)"
   ]
  }
 ],
 "metadata": {
  "kernelspec": {
   "display_name": "Python 3 (ipykernel)",
   "language": "python",
   "name": "python3"
  },
  "language_info": {
   "codemirror_mode": {
    "name": "ipython",
    "version": 3
   },
   "file_extension": ".py",
   "mimetype": "text/x-python",
   "name": "python",
   "nbconvert_exporter": "python",
   "pygments_lexer": "ipython3",
   "version": "3.9.7"
  }
 },
 "nbformat": 4,
 "nbformat_minor": 5
}
