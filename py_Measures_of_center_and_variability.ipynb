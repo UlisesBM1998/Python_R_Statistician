{
 "cells": [
  {
   "cell_type": "code",
   "execution_count": 1,
   "id": "8b737f59",
   "metadata": {},
   "outputs": [],
   "source": [
    "import numpy as np\n",
    "from scipy import stats"
   ]
  },
  {
   "cell_type": "code",
   "execution_count": 2,
   "id": "f313c864",
   "metadata": {},
   "outputs": [],
   "source": [
    "players = [40000,18000,12000,250000,30000,140000,300000,40000,800000]"
   ]
  },
  {
   "cell_type": "code",
   "execution_count": 3,
   "id": "28c8b76a",
   "metadata": {},
   "outputs": [
    {
     "data": {
      "text/plain": [
       "181111.11111111112"
      ]
     },
     "execution_count": 3,
     "metadata": {},
     "output_type": "execute_result"
    }
   ],
   "source": [
    "np.mean(players)"
   ]
  },
  {
   "cell_type": "code",
   "execution_count": 4,
   "id": "a4ced702",
   "metadata": {},
   "outputs": [
    {
     "data": {
      "text/plain": [
       "40000.0"
      ]
     },
     "execution_count": 4,
     "metadata": {},
     "output_type": "execute_result"
    }
   ],
   "source": [
    "np.median(players)"
   ]
  },
  {
   "cell_type": "code",
   "execution_count": 12,
   "id": "4e89a786",
   "metadata": {},
   "outputs": [
    {
     "data": {
      "text/plain": [
       "ModeResult(mode=array([40000]), count=array([2]))"
      ]
     },
     "execution_count": 12,
     "metadata": {},
     "output_type": "execute_result"
    }
   ],
   "source": [
    "stats.mode(players)"
   ]
  },
  {
   "cell_type": "code",
   "execution_count": 6,
   "id": "1e70e205",
   "metadata": {},
   "outputs": [
    {
     "data": {
      "text/plain": [
       "array([ 12000.,  30000.,  40000., 250000., 800000.])"
      ]
     },
     "execution_count": 6,
     "metadata": {},
     "output_type": "execute_result"
    }
   ],
   "source": [
    "np.quantile(players, [0,0.25,0.5,0.75,1])"
   ]
  },
  {
   "cell_type": "code",
   "execution_count": 14,
   "id": "23d8f4c9",
   "metadata": {},
   "outputs": [
    {
     "data": {
      "text/plain": [
       "1.329054697954128"
      ]
     },
     "execution_count": 14,
     "metadata": {},
     "output_type": "execute_result"
    }
   ],
   "source": [
    "stats.variation(players)"
   ]
  },
  {
   "cell_type": "code",
   "execution_count": 8,
   "id": "a95c2626",
   "metadata": {},
   "outputs": [
    {
     "data": {
      "text/plain": [
       "255307.87514511007"
      ]
     },
     "execution_count": 8,
     "metadata": {},
     "output_type": "execute_result"
    }
   ],
   "source": [
    "np.std(players, ddof = 1)"
   ]
  },
  {
   "cell_type": "code",
   "execution_count": 9,
   "id": "2294923e",
   "metadata": {},
   "outputs": [
    {
     "data": {
      "text/plain": [
       "DescribeResult(nobs=9, minmax=(12000, 800000), mean=181111.11111111112, variance=65182111111.11111, skewness=1.758635899846188, kurtosis=1.9572075427527729)"
      ]
     },
     "execution_count": 9,
     "metadata": {},
     "output_type": "execute_result"
    }
   ],
   "source": [
    "stats.describe(players)"
   ]
  }
 ],
 "metadata": {
  "kernelspec": {
   "display_name": "Python 3 (ipykernel)",
   "language": "python",
   "name": "python3"
  },
  "language_info": {
   "codemirror_mode": {
    "name": "ipython",
    "version": 3
   },
   "file_extension": ".py",
   "mimetype": "text/x-python",
   "name": "python",
   "nbconvert_exporter": "python",
   "pygments_lexer": "ipython3",
   "version": "3.9.7"
  }
 },
 "nbformat": 4,
 "nbformat_minor": 5
}
