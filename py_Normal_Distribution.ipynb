{
 "cells": [
  {
   "cell_type": "markdown",
   "id": "49b0b449",
   "metadata": {},
   "source": [
    "# IMPORTING LIBRARY"
   ]
  },
  {
   "cell_type": "code",
   "execution_count": 1,
   "id": "fc0515d1",
   "metadata": {},
   "outputs": [],
   "source": [
    "from scipy.stats import norm"
   ]
  },
  {
   "cell_type": "markdown",
   "id": "0e81f2c9",
   "metadata": {},
   "source": [
    "With a  mean of 8, what is the probability to take one object that has a weight less than 6. WIth a standard deviation of 2."
   ]
  },
  {
   "cell_type": "code",
   "execution_count": 2,
   "id": "6631db66",
   "metadata": {},
   "outputs": [
    {
     "data": {
      "text/plain": [
       "0.15865525393145707"
      ]
     },
     "execution_count": 2,
     "metadata": {},
     "output_type": "execute_result"
    }
   ],
   "source": [
    "norm.cdf(6,8,2)"
   ]
  },
  {
   "cell_type": "markdown",
   "id": "cd0fd5eb",
   "metadata": {},
   "source": [
    "With a  mean of 8, what is the probability to take one object that has a weight more than 6. WIth a standard deviation of 2. Two options:"
   ]
  },
  {
   "cell_type": "code",
   "execution_count": 3,
   "id": "6cb98e8f",
   "metadata": {},
   "outputs": [
    {
     "data": {
      "text/plain": [
       "0.8413447460685429"
      ]
     },
     "execution_count": 3,
     "metadata": {},
     "output_type": "execute_result"
    }
   ],
   "source": [
    "norm.sf(6,8,2)"
   ]
  },
  {
   "cell_type": "code",
   "execution_count": 4,
   "id": "fafafe73",
   "metadata": {},
   "outputs": [
    {
     "data": {
      "text/plain": [
       "0.8413447460685429"
      ]
     },
     "execution_count": 4,
     "metadata": {},
     "output_type": "execute_result"
    }
   ],
   "source": [
    "1 - norm.cdf(6,8,2)"
   ]
  },
  {
   "cell_type": "markdown",
   "id": "bef53649",
   "metadata": {},
   "source": [
    "What is the probability to take one object that has a weight less than 6 or more than 10. WIth a standard deviation of 2."
   ]
  },
  {
   "cell_type": "code",
   "execution_count": 5,
   "id": "0c00107c",
   "metadata": {},
   "outputs": [
    {
     "data": {
      "text/plain": [
       "0.31731050786291415"
      ]
     },
     "execution_count": 5,
     "metadata": {},
     "output_type": "execute_result"
    }
   ],
   "source": [
    "norm.cdf(6,8,2) + norm.sf(10,8,2)"
   ]
  },
  {
   "cell_type": "markdown",
   "id": "06da0a66",
   "metadata": {},
   "source": [
    "What is the probability to take one object that has a weight less than 10 and more than 8. WIth a standard deviation of 2."
   ]
  },
  {
   "cell_type": "code",
   "execution_count": 6,
   "id": "12f86cc4",
   "metadata": {},
   "outputs": [
    {
     "data": {
      "text/plain": [
       "0.3413447460685429"
      ]
     },
     "execution_count": 6,
     "metadata": {},
     "output_type": "execute_result"
    }
   ],
   "source": [
    "norm.cdf(10,8,2) - norm.cdf(8,8,2)"
   ]
  }
 ],
 "metadata": {
  "kernelspec": {
   "display_name": "Python 3 (ipykernel)",
   "language": "python",
   "name": "python3"
  },
  "language_info": {
   "codemirror_mode": {
    "name": "ipython",
    "version": 3
   },
   "file_extension": ".py",
   "mimetype": "text/x-python",
   "name": "python",
   "nbconvert_exporter": "python",
   "pygments_lexer": "ipython3",
   "version": "3.9.7"
  }
 },
 "nbformat": 4,
 "nbformat_minor": 5
}
