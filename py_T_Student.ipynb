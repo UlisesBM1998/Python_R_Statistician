{
 "cells": [
  {
   "cell_type": "code",
   "execution_count": 1,
   "id": "96128b55",
   "metadata": {},
   "outputs": [],
   "source": [
    "from scipy.stats import t\n",
    "import math"
   ]
  },
  {
   "cell_type": "markdown",
   "id": "70ad1704",
   "metadata": {},
   "source": [
    "Salary average of a data scientist  is $20 per hour. Sample is 9 and the standard variation is 10."
   ]
  },
  {
   "cell_type": "markdown",
   "id": "cf2d0e1b",
   "metadata": {},
   "source": [
    "Getting the t value"
   ]
  },
  {
   "cell_type": "code",
   "execution_count": 2,
   "id": "ff43175c",
   "metadata": {},
   "outputs": [
    {
     "data": {
      "text/plain": [
       "0.35355339059327373"
      ]
     },
     "execution_count": 2,
     "metadata": {},
     "output_type": "execute_result"
    }
   ],
   "source": [
    "t_table_value = (30-20)/10/math.sqrt(8)\n",
    "t_table_value"
   ]
  },
  {
   "cell_type": "markdown",
   "id": "628c9607",
   "metadata": {},
   "source": [
    "What is the probability of getting a salary below $30"
   ]
  },
  {
   "cell_type": "code",
   "execution_count": 3,
   "id": "2cca0e26",
   "metadata": {},
   "outputs": [
    {
     "data": {
      "text/plain": [
       "0.633595063198829"
      ]
     },
     "execution_count": 3,
     "metadata": {},
     "output_type": "execute_result"
    }
   ],
   "source": [
    "t.cdf(t_table_value,8)"
   ]
  },
  {
   "cell_type": "markdown",
   "id": "2862b46b",
   "metadata": {},
   "source": [
    "What is the probability of getting a salary higher $30"
   ]
  },
  {
   "cell_type": "code",
   "execution_count": 4,
   "id": "73ffa674",
   "metadata": {},
   "outputs": [
    {
     "data": {
      "text/plain": [
       "0.3664049368011709"
      ]
     },
     "execution_count": 4,
     "metadata": {},
     "output_type": "execute_result"
    }
   ],
   "source": [
    "t.sf(t_table_value,8)"
   ]
  },
  {
   "cell_type": "code",
   "execution_count": 5,
   "id": "76edb8e0",
   "metadata": {},
   "outputs": [
    {
     "data": {
      "text/plain": [
       "0.9999999999999999"
      ]
     },
     "execution_count": 5,
     "metadata": {},
     "output_type": "execute_result"
    }
   ],
   "source": [
    "total = t.cdf(t_table_value,8) + t.sf(t_table_value,8)\n",
    "total"
   ]
  }
 ],
 "metadata": {
  "kernelspec": {
   "display_name": "Python 3 (ipykernel)",
   "language": "python",
   "name": "python3"
  },
  "language_info": {
   "codemirror_mode": {
    "name": "ipython",
    "version": 3
   },
   "file_extension": ".py",
   "mimetype": "text/x-python",
   "name": "python",
   "nbconvert_exporter": "python",
   "pygments_lexer": "ipython3",
   "version": "3.9.7"
  }
 },
 "nbformat": 4,
 "nbformat_minor": 5
}
