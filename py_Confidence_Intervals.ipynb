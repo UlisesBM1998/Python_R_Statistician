{
 "cells": [
  {
   "cell_type": "markdown",
   "id": "96fac6ba",
   "metadata": {},
   "source": [
    "# IMPORTING LIBRARIES"
   ]
  },
  {
   "cell_type": "code",
   "execution_count": 5,
   "id": "3df7ba52",
   "metadata": {},
   "outputs": [],
   "source": [
    "import statistics as stats\n",
    "import math"
   ]
  },
  {
   "cell_type": "markdown",
   "id": "cae1d6ed",
   "metadata": {},
   "source": [
    "# CREATING THE DATASET AND FEATURES TO MAKE THE CALCULATIONS"
   ]
  },
  {
   "cell_type": "code",
   "execution_count": 1,
   "id": "73ed5623",
   "metadata": {},
   "outputs": [],
   "source": [
    "salaries = [3000,4567,3420,3450,4530,3450,2340,6540,6543,7000]"
   ]
  },
  {
   "cell_type": "code",
   "execution_count": 14,
   "id": "236abd60",
   "metadata": {},
   "outputs": [],
   "source": [
    "sample = 10\n",
    "z = 1.96 #95% confidence\n",
    "average = stats.mean(salaries)\n",
    "standardDeviation = stats.stdev(salaries)"
   ]
  },
  {
   "cell_type": "markdown",
   "id": "fd2db622",
   "metadata": {},
   "source": [
    "# RESULTS"
   ]
  },
  {
   "cell_type": "code",
   "execution_count": 15,
   "id": "2aeb6a3d",
   "metadata": {},
   "outputs": [
    {
     "name": "stdout",
     "output_type": "stream",
     "text": [
      "The salaries are between: 3453.57 and 5514.43. With a confidence of 95%\n"
     ]
    }
   ],
   "source": [
    "marginOfError = z*(standardDeviation/math.sqrt(sample))\n",
    "print(f\"The salaries are between: {round(average-marginOfError,2)} and {round(average+marginOfError, 2)}. With a confidence of 95%\")"
   ]
  },
  {
   "cell_type": "markdown",
   "id": "d214f09c",
   "metadata": {},
   "source": [
    "# MAKING THE SAME PREVIOUS CALCULATION BUT WITH A HIGHER CONFIDENCE INTERVALS"
   ]
  },
  {
   "cell_type": "code",
   "execution_count": 16,
   "id": "05d05d66",
   "metadata": {},
   "outputs": [],
   "source": [
    "sample = 10\n",
    "z = 2.58 #99% confidence\n",
    "average = stats.mean(salaries)\n",
    "standardDeviation = stats.stdev(salaries)"
   ]
  },
  {
   "cell_type": "code",
   "execution_count": 17,
   "id": "0b545b51",
   "metadata": {},
   "outputs": [
    {
     "name": "stdout",
     "output_type": "stream",
     "text": [
      "The salaries are between: 3127.62 and 5840.38. With a confidence of 99%\n"
     ]
    }
   ],
   "source": [
    "marginOfError = z*(standardDeviation/math.sqrt(sample))\n",
    "print(f\"The salaries are between: {round(average-marginOfError,2)} and {round(average+marginOfError, 2)}. With a confidence of 99%\")"
   ]
  },
  {
   "cell_type": "markdown",
   "id": "b1eb95fd",
   "metadata": {},
   "source": [
    "# NOW CALCULATING WITH A DIFFERENT WAY, BUT NOW KNOWING THE VALUE OF THE VARIABLE"
   ]
  },
  {
   "cell_type": "code",
   "execution_count": 28,
   "id": "fad6b5b3",
   "metadata": {},
   "outputs": [],
   "source": [
    "sample = 1000\n",
    "z = 1.96\n",
    "value = 0.7 # 700 people out of 1000 would rather this value"
   ]
  },
  {
   "cell_type": "code",
   "execution_count": 30,
   "id": "a86de2cc",
   "metadata": {},
   "outputs": [
    {
     "name": "stdout",
     "output_type": "stream",
     "text": [
      "People would choose this value between: 0.67 and 0.73. With a confidence of 95%\n"
     ]
    }
   ],
   "source": [
    "marginOfError = z * math.sqrt(value*(1-value)/sample)\n",
    "print(f\"People would choose this value between: {round(value-marginOfError,2)} and {round(value+marginOfError,2)}. With a confidence of 95%\")"
   ]
  }
 ],
 "metadata": {
  "kernelspec": {
   "display_name": "Python 3 (ipykernel)",
   "language": "python",
   "name": "python3"
  },
  "language_info": {
   "codemirror_mode": {
    "name": "ipython",
    "version": 3
   },
   "file_extension": ".py",
   "mimetype": "text/x-python",
   "name": "python",
   "nbconvert_exporter": "python",
   "pygments_lexer": "ipython3",
   "version": "3.9.7"
  }
 },
 "nbformat": 4,
 "nbformat_minor": 5
}
