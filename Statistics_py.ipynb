{
 "cells": [
  {
   "cell_type": "markdown",
   "id": "860af231",
   "metadata": {},
   "source": [
    "# Math"
   ]
  },
  {
   "cell_type": "code",
   "execution_count": 1,
   "id": "4e7660db",
   "metadata": {},
   "outputs": [],
   "source": [
    "import math\n",
    "import statistics as stats\n",
    "\n",
    "x = 5"
   ]
  },
  {
   "cell_type": "code",
   "execution_count": 2,
   "id": "9d2e4f93",
   "metadata": {},
   "outputs": [
    {
     "data": {
      "text/plain": [
       "-3.380515006246586"
      ]
     },
     "execution_count": 2,
     "metadata": {},
     "output_type": "execute_result"
    }
   ],
   "source": [
    "math.tan(x)"
   ]
  },
  {
   "cell_type": "code",
   "execution_count": 3,
   "id": "7848f7e1",
   "metadata": {},
   "outputs": [
    {
     "data": {
      "text/plain": [
       "0.28366218546322625"
      ]
     },
     "execution_count": 3,
     "metadata": {},
     "output_type": "execute_result"
    }
   ],
   "source": [
    "math.cos(x)"
   ]
  },
  {
   "cell_type": "code",
   "execution_count": 4,
   "id": "94ff0c6f",
   "metadata": {},
   "outputs": [
    {
     "data": {
      "text/plain": [
       "-0.9589242746631385"
      ]
     },
     "execution_count": 4,
     "metadata": {},
     "output_type": "execute_result"
    }
   ],
   "source": [
    "math.sin(x)"
   ]
  },
  {
   "cell_type": "code",
   "execution_count": 5,
   "id": "e4b79d9a",
   "metadata": {},
   "outputs": [
    {
     "data": {
      "text/plain": [
       "2.23606797749979"
      ]
     },
     "execution_count": 5,
     "metadata": {},
     "output_type": "execute_result"
    }
   ],
   "source": [
    "math.sqrt(x)"
   ]
  },
  {
   "cell_type": "code",
   "execution_count": 6,
   "id": "7cc8f2ef",
   "metadata": {},
   "outputs": [
    {
     "data": {
      "text/plain": [
       "1.6094379124341003"
      ]
     },
     "execution_count": 6,
     "metadata": {},
     "output_type": "execute_result"
    }
   ],
   "source": [
    "math.log(x)"
   ]
  },
  {
   "cell_type": "code",
   "execution_count": 7,
   "id": "755a5f07",
   "metadata": {},
   "outputs": [
    {
     "data": {
      "text/plain": [
       "148.4131591025766"
      ]
     },
     "execution_count": 7,
     "metadata": {},
     "output_type": "execute_result"
    }
   ],
   "source": [
    "math.exp(x)"
   ]
  },
  {
   "cell_type": "code",
   "execution_count": 8,
   "id": "6df3b9dd",
   "metadata": {},
   "outputs": [
    {
     "data": {
      "text/plain": [
       "120"
      ]
     },
     "execution_count": 8,
     "metadata": {},
     "output_type": "execute_result"
    }
   ],
   "source": [
    "math.factorial(x)"
   ]
  },
  {
   "cell_type": "code",
   "execution_count": 9,
   "id": "4b702e8f",
   "metadata": {},
   "outputs": [],
   "source": [
    "y1 = 5.4\n",
    "y2 = 5.5"
   ]
  },
  {
   "cell_type": "code",
   "execution_count": 10,
   "id": "7562dc8c",
   "metadata": {},
   "outputs": [
    {
     "name": "stdout",
     "output_type": "stream",
     "text": [
      "5\n",
      "5\n"
     ]
    }
   ],
   "source": [
    "print(math.floor(y1))\n",
    "print(math.floor(y2))"
   ]
  },
  {
   "cell_type": "code",
   "execution_count": 11,
   "id": "e1ccd6bc",
   "metadata": {},
   "outputs": [
    {
     "name": "stdout",
     "output_type": "stream",
     "text": [
      "6\n",
      "6\n"
     ]
    }
   ],
   "source": [
    "print(math.ceil(y1))\n",
    "print(math.ceil(y2))"
   ]
  },
  {
   "cell_type": "code",
   "execution_count": 12,
   "id": "f8896f94",
   "metadata": {},
   "outputs": [
    {
     "name": "stdout",
     "output_type": "stream",
     "text": [
      "5\n",
      "5\n"
     ]
    }
   ],
   "source": [
    "print(math.trunc(y1))\n",
    "print(math.trunc(y2))"
   ]
  },
  {
   "cell_type": "code",
   "execution_count": 13,
   "id": "53b181fe",
   "metadata": {},
   "outputs": [
    {
     "name": "stdout",
     "output_type": "stream",
     "text": [
      "5\n",
      "6\n"
     ]
    }
   ],
   "source": [
    "print(round(y1))\n",
    "print(round(y2))"
   ]
  },
  {
   "cell_type": "code",
   "execution_count": 14,
   "id": "38e06da2",
   "metadata": {},
   "outputs": [
    {
     "data": {
      "text/plain": [
       "706.8583470577034"
      ]
     },
     "execution_count": 14,
     "metadata": {},
     "output_type": "execute_result"
    }
   ],
   "source": [
    "def GetCicleArea(radio):\n",
    "    cicleArea = math.pi * radio ** 2\n",
    "    return cicleArea\n",
    "GetCicleArea(15)"
   ]
  },
  {
   "cell_type": "markdown",
   "id": "481b51ff",
   "metadata": {},
   "source": [
    "# Measures of Center and Variability"
   ]
  },
  {
   "cell_type": "code",
   "execution_count": 15,
   "id": "6eb49308",
   "metadata": {},
   "outputs": [
    {
     "name": "stdout",
     "output_type": "stream",
     "text": [
      "The mean of players is:  181111.11111111112\n",
      "The median of players is:  40000.0\n",
      "The mode of players is:  ModeResult(mode=array([40000]), count=array([2]))\n",
      "The quantiles of players are (0.0, 0.25,0.75,1):  [ 12000.  30000.  40000. 250000. 800000.]\n",
      "The variance of players is:  1.329054697954128\n",
      "The Standard Deviation of players is:  255307.87514511007\n",
      "The harmonic mean:  37823.32438336975\n",
      "The maximum number is:  800000\n",
      "The minimum number is:  12000\n",
      "The Statistics of players in a one dataframe is:  DescribeResult(nobs=9, minmax=(12000, 800000), mean=181111.11111111112, variance=65182111111.11111, skewness=1.758635899846188, kurtosis=1.9572075427527729)\n"
     ]
    }
   ],
   "source": [
    "import numpy as np\n",
    "from scipy import stats\n",
    "\n",
    "players = [40000,18000,12000,250000,30000,140000,300000,40000,800000]\n",
    "\n",
    "print(\"The mean of players is: \", np.mean(players))\n",
    "print(\"The median of players is: \", np.median(players))\n",
    "print(\"The mode of players is: \", stats.mode(players))\n",
    "print(\"The quantiles of players are (0.0, 0.25,0.75,1): \", np.quantile(players, [0,0.25,0.5,0.75,1]))\n",
    "print(\"The variance of players is: \" , stats.variation(players))\n",
    "print(\"The Standard Deviation of players is: \", np.std(players, ddof = 1))\n",
    "print(\"The harmonic mean: \", stats.hmean(players))\n",
    "print(\"The maximum number is: \", max(players))\n",
    "print(\"The minimum number is: \", min(players))\n",
    "print(\"The Statistics of players in a one dataframe is: \", stats.describe(players) )"
   ]
  },
  {
   "cell_type": "markdown",
   "id": "d3f71eec",
   "metadata": {},
   "source": [
    "# Simple Random Sampling"
   ]
  },
  {
   "cell_type": "code",
   "execution_count": 16,
   "id": "68072451",
   "metadata": {
    "scrolled": false
   },
   "outputs": [
    {
     "name": "stdout",
     "output_type": "stream",
     "text": [
      "DATASET\n",
      "   sepal length  sepal width  petal length  petal width        class\n",
      "0           5.1          3.5           1.4          0.2  Iris-setosa\n",
      "1           4.9          3.0           1.4          0.2  Iris-setosa\n",
      "2           4.7          3.2           1.3          0.2  Iris-setosa\n",
      "3           4.6          3.1           1.5          0.2  Iris-setosa\n",
      "4           5.0          3.6           1.4          0.2  Iris-setosa\n",
      "SAMPLING FEATURES\n",
      "150\n",
      "51\n",
      "99\n",
      "SIMPLE RANDOM SAMPLING DATASET\n"
     ]
    },
    {
     "data": {
      "text/html": [
       "<div>\n",
       "<style scoped>\n",
       "    .dataframe tbody tr th:only-of-type {\n",
       "        vertical-align: middle;\n",
       "    }\n",
       "\n",
       "    .dataframe tbody tr th {\n",
       "        vertical-align: top;\n",
       "    }\n",
       "\n",
       "    .dataframe thead th {\n",
       "        text-align: right;\n",
       "    }\n",
       "</style>\n",
       "<table border=\"1\" class=\"dataframe\">\n",
       "  <thead>\n",
       "    <tr style=\"text-align: right;\">\n",
       "      <th></th>\n",
       "      <th>sepal length</th>\n",
       "      <th>sepal width</th>\n",
       "      <th>petal length</th>\n",
       "      <th>petal width</th>\n",
       "      <th>class</th>\n",
       "    </tr>\n",
       "  </thead>\n",
       "  <tbody>\n",
       "    <tr>\n",
       "      <th>0</th>\n",
       "      <td>5.1</td>\n",
       "      <td>3.5</td>\n",
       "      <td>1.4</td>\n",
       "      <td>0.2</td>\n",
       "      <td>Iris-setosa</td>\n",
       "    </tr>\n",
       "    <tr>\n",
       "      <th>1</th>\n",
       "      <td>4.9</td>\n",
       "      <td>3.0</td>\n",
       "      <td>1.4</td>\n",
       "      <td>0.2</td>\n",
       "      <td>Iris-setosa</td>\n",
       "    </tr>\n",
       "    <tr>\n",
       "      <th>3</th>\n",
       "      <td>4.6</td>\n",
       "      <td>3.1</td>\n",
       "      <td>1.5</td>\n",
       "      <td>0.2</td>\n",
       "      <td>Iris-setosa</td>\n",
       "    </tr>\n",
       "    <tr>\n",
       "      <th>5</th>\n",
       "      <td>5.4</td>\n",
       "      <td>3.9</td>\n",
       "      <td>1.7</td>\n",
       "      <td>0.4</td>\n",
       "      <td>Iris-setosa</td>\n",
       "    </tr>\n",
       "    <tr>\n",
       "      <th>7</th>\n",
       "      <td>5.0</td>\n",
       "      <td>3.4</td>\n",
       "      <td>1.5</td>\n",
       "      <td>0.2</td>\n",
       "      <td>Iris-setosa</td>\n",
       "    </tr>\n",
       "    <tr>\n",
       "      <th>8</th>\n",
       "      <td>4.4</td>\n",
       "      <td>2.9</td>\n",
       "      <td>1.4</td>\n",
       "      <td>0.2</td>\n",
       "      <td>Iris-setosa</td>\n",
       "    </tr>\n",
       "    <tr>\n",
       "      <th>9</th>\n",
       "      <td>4.9</td>\n",
       "      <td>3.1</td>\n",
       "      <td>1.5</td>\n",
       "      <td>0.1</td>\n",
       "      <td>Iris-setosa</td>\n",
       "    </tr>\n",
       "    <tr>\n",
       "      <th>10</th>\n",
       "      <td>5.4</td>\n",
       "      <td>3.7</td>\n",
       "      <td>1.5</td>\n",
       "      <td>0.2</td>\n",
       "      <td>Iris-setosa</td>\n",
       "    </tr>\n",
       "    <tr>\n",
       "      <th>11</th>\n",
       "      <td>4.8</td>\n",
       "      <td>3.4</td>\n",
       "      <td>1.6</td>\n",
       "      <td>0.2</td>\n",
       "      <td>Iris-setosa</td>\n",
       "    </tr>\n",
       "    <tr>\n",
       "      <th>12</th>\n",
       "      <td>4.8</td>\n",
       "      <td>3.0</td>\n",
       "      <td>1.4</td>\n",
       "      <td>0.1</td>\n",
       "      <td>Iris-setosa</td>\n",
       "    </tr>\n",
       "    <tr>\n",
       "      <th>13</th>\n",
       "      <td>4.3</td>\n",
       "      <td>3.0</td>\n",
       "      <td>1.1</td>\n",
       "      <td>0.1</td>\n",
       "      <td>Iris-setosa</td>\n",
       "    </tr>\n",
       "    <tr>\n",
       "      <th>15</th>\n",
       "      <td>5.7</td>\n",
       "      <td>4.4</td>\n",
       "      <td>1.5</td>\n",
       "      <td>0.4</td>\n",
       "      <td>Iris-setosa</td>\n",
       "    </tr>\n",
       "    <tr>\n",
       "      <th>16</th>\n",
       "      <td>5.4</td>\n",
       "      <td>3.9</td>\n",
       "      <td>1.3</td>\n",
       "      <td>0.4</td>\n",
       "      <td>Iris-setosa</td>\n",
       "    </tr>\n",
       "    <tr>\n",
       "      <th>19</th>\n",
       "      <td>5.1</td>\n",
       "      <td>3.8</td>\n",
       "      <td>1.5</td>\n",
       "      <td>0.3</td>\n",
       "      <td>Iris-setosa</td>\n",
       "    </tr>\n",
       "    <tr>\n",
       "      <th>20</th>\n",
       "      <td>5.4</td>\n",
       "      <td>3.4</td>\n",
       "      <td>1.7</td>\n",
       "      <td>0.2</td>\n",
       "      <td>Iris-setosa</td>\n",
       "    </tr>\n",
       "  </tbody>\n",
       "</table>\n",
       "</div>"
      ],
      "text/plain": [
       "    sepal length  sepal width  petal length  petal width        class\n",
       "0            5.1          3.5           1.4          0.2  Iris-setosa\n",
       "1            4.9          3.0           1.4          0.2  Iris-setosa\n",
       "3            4.6          3.1           1.5          0.2  Iris-setosa\n",
       "5            5.4          3.9           1.7          0.4  Iris-setosa\n",
       "7            5.0          3.4           1.5          0.2  Iris-setosa\n",
       "8            4.4          2.9           1.4          0.2  Iris-setosa\n",
       "9            4.9          3.1           1.5          0.1  Iris-setosa\n",
       "10           5.4          3.7           1.5          0.2  Iris-setosa\n",
       "11           4.8          3.4           1.6          0.2  Iris-setosa\n",
       "12           4.8          3.0           1.4          0.1  Iris-setosa\n",
       "13           4.3          3.0           1.1          0.1  Iris-setosa\n",
       "15           5.7          4.4           1.5          0.4  Iris-setosa\n",
       "16           5.4          3.9           1.3          0.4  Iris-setosa\n",
       "19           5.1          3.8           1.5          0.3  Iris-setosa\n",
       "20           5.4          3.4           1.7          0.2  Iris-setosa"
      ]
     },
     "execution_count": 16,
     "metadata": {},
     "output_type": "execute_result"
    }
   ],
   "source": [
    "import numpy as np\n",
    "import pandas as pd\n",
    "\n",
    "data = pd.read_csv(\"iris.csv\")\n",
    "print(\"DATASET\")\n",
    "print(data.head())\n",
    "\n",
    "sampling = np.random.choice(a=[0,1], size = 150, replace = True, p = [0.7,0.3])\n",
    "\n",
    "print(\"SAMPLING FEATURES\")\n",
    "print(len(sampling))\n",
    "print(len(sampling[sampling==1]))\n",
    "print(len(sampling[sampling==0]))\n",
    "\n",
    "data_sampling = data.loc[sampling == 0]\n",
    "print(\"Simple Random Sampling Dataset\".upper())\n",
    "data_sampling.head(15)"
   ]
  },
  {
   "cell_type": "markdown",
   "id": "cd88f57a",
   "metadata": {},
   "source": [
    "# Stratified Sampling"
   ]
  },
  {
   "cell_type": "markdown",
   "id": "0a828845",
   "metadata": {},
   "source": [
    "### Example 1"
   ]
  },
  {
   "cell_type": "code",
   "execution_count": 17,
   "id": "d85563e0",
   "metadata": {},
   "outputs": [
    {
     "name": "stdout",
     "output_type": "stream",
     "text": [
      "Iris-setosa        50\n",
      "Iris-versicolor    50\n",
      "Iris-virginica     50\n",
      "Name: class, dtype: int64\n",
      "Iris-setosa        25\n",
      "Iris-versicolor    25\n",
      "Iris-virginica     25\n",
      "Name: class, dtype: int64\n"
     ]
    }
   ],
   "source": [
    "from sklearn.model_selection import train_test_split\n",
    "\n",
    "print(data[\"class\"].value_counts())\n",
    "\n",
    "X,_,y,_ = train_test_split(data.iloc[:,0:4], data.iloc[:,4], test_size = 0.5, stratify = data.iloc[:,4])\n",
    "print(y.value_counts())"
   ]
  },
  {
   "cell_type": "markdown",
   "id": "a18a99d7",
   "metadata": {},
   "source": [
    "### Example 2"
   ]
  },
  {
   "cell_type": "code",
   "execution_count": 18,
   "id": "cae23778",
   "metadata": {},
   "outputs": [
    {
     "name": "stdout",
     "output_type": "stream",
     "text": [
      "6-11yrs    120\n",
      "12+ yrs    116\n",
      "0-5yrs      12\n",
      "Name: education, dtype: int64\n",
      "6-11yrs    48\n",
      "12+ yrs    46\n",
      "0-5yrs      5\n",
      "Name: education, dtype: int64\n"
     ]
    }
   ],
   "source": [
    "infert = pd.read_csv(\"infert.csv\")\n",
    "\n",
    "print(infert[\"education\"].value_counts())\n",
    "\n",
    "X1,_,y1,_ = train_test_split(infert.iloc[:,2:9], infert.iloc[:,1], test_size = 0.6, stratify = infert.iloc[:,1])\n",
    "print(y1.value_counts())"
   ]
  },
  {
   "cell_type": "markdown",
   "id": "7e2f4bbc",
   "metadata": {},
   "source": [
    "# Systematic Sampling"
   ]
  },
  {
   "cell_type": "code",
   "execution_count": 19,
   "id": "d95b27f2",
   "metadata": {},
   "outputs": [
    {
     "name": "stdout",
     "output_type": "stream",
     "text": [
      "From 0 to 150, we are going to grab 15 examples by incrementing by 10 by 10. (because K is ten)\n",
      "K is:  10\n",
      "Random number to decide the begging of the list:\n",
      "[6]\n",
      "The selected index are: \n",
      "[6, 16, 26, 36, 46, 56, 66, 76, 86, 96, 106, 116, 126, 136, 146]\n",
      "Systemic Sampling list: \n",
      "     sepal length  sepal width  petal length  petal width            class\n",
      "6             4.6          3.4           1.4          0.3      Iris-setosa\n",
      "16            5.4          3.9           1.3          0.4      Iris-setosa\n",
      "26            5.0          3.4           1.6          0.4      Iris-setosa\n",
      "36            5.5          3.5           1.3          0.2      Iris-setosa\n",
      "46            5.1          3.8           1.6          0.2      Iris-setosa\n",
      "56            6.3          3.3           4.7          1.6  Iris-versicolor\n",
      "66            5.6          3.0           4.5          1.5  Iris-versicolor\n",
      "76            6.8          2.8           4.8          1.4  Iris-versicolor\n",
      "86            6.7          3.1           4.7          1.5  Iris-versicolor\n",
      "96            5.7          2.9           4.2          1.3  Iris-versicolor\n",
      "106           4.9          2.5           4.5          1.7   Iris-virginica\n",
      "116           6.5          3.0           5.5          1.8   Iris-virginica\n",
      "126           6.2          2.8           4.8          1.8   Iris-virginica\n",
      "136           6.3          3.4           5.6          2.4   Iris-virginica\n",
      "146           6.3          2.5           5.0          1.9   Iris-virginica\n"
     ]
    }
   ],
   "source": [
    "import math\n",
    "\n",
    "print(\"From 0 to 150, we are going to grab 15 examples by incrementing by 10 by 10. (because K is ten)\")\n",
    "population = 150\n",
    "sampling = 15\n",
    "k = math.ceil(population/ sampling)\n",
    "print(\"K is: \",k)\n",
    "\n",
    "print(\"Random number to decide the begging of the list:\")\n",
    "r = np.random.randint(low = 1, high=k+1, size=1)\n",
    "print(r)\n",
    "\n",
    "accumulator = r[0]\n",
    "dataSelected = []\n",
    "\n",
    "for i in range(sampling):\n",
    "    dataSelected.append(accumulator)\n",
    "    accumulator = accumulator + k\n",
    "print(\"The selected index are: \")    \n",
    "print(dataSelected)\n",
    "\n",
    "data = pd.read_csv(\"iris.csv\")\n",
    "dataFinal = data.loc[dataSelected]\n",
    "print(\"Systemic Sampling list: \")\n",
    "print(dataFinal)"
   ]
  },
  {
   "cell_type": "markdown",
   "id": "35666b06",
   "metadata": {},
   "source": [
    "# Normal Distribution"
   ]
  },
  {
   "cell_type": "code",
   "execution_count": 20,
   "id": "cf3ba925",
   "metadata": {},
   "outputs": [
    {
     "name": "stdout",
     "output_type": "stream",
     "text": [
      "With a mean of 8, what is the probability to take one object that has a weight less than 6. With a standard deviation of 2.\n",
      "0.15865525393145707\n",
      "With a mean of 8, what is the probability to take one object that has a weight more than 6. With a standard deviation of 2. Two options:\n",
      "0.8413447460685429\n",
      "What is the probability to take one object that has a weight less than 6 or more than 10. With a standard deviation of 2.\n",
      "0.31731050786291415\n",
      "What is the probability to take one object that has a weight less than 10 and more than 8. With a standard deviation of 2.\n",
      "0.3413447460685429\n"
     ]
    }
   ],
   "source": [
    "from scipy.stats import norm\n",
    "print(\"With a mean of 8, what is the probability to take one object that has a weight less than 6. With a standard deviation of 2.\")\n",
    "print(norm.cdf(6,8,2))\n",
    "print(\"With a mean of 8, what is the probability to take one object that has a weight more than 6. With a standard deviation of 2. Two options:\")\n",
    "print(norm.sf(6,8,2)) # or 1 - norm.cdf(6,8,2)\n",
    "print(\"What is the probability to take one object that has a weight less than 6 or more than 10. With a standard deviation of 2.\")\n",
    "print(norm.cdf(6,8,2) + norm.sf(10,8,2))\n",
    "print(\"What is the probability to take one object that has a weight less than 10 and more than 8. With a standard deviation of 2.\")\n",
    "print(norm.cdf(10,8,2) - norm.cdf(8,8,2))"
   ]
  },
  {
   "cell_type": "markdown",
   "id": "d9aa1486",
   "metadata": {},
   "source": [
    "# Normality Test"
   ]
  },
  {
   "cell_type": "code",
   "execution_count": 21,
   "id": "cbedf16e",
   "metadata": {},
   "outputs": [],
   "source": [
    "from scipy.stats import norm, skewnorm\n",
    "import matplotlib.pyplot as plt"
   ]
  },
  {
   "cell_type": "markdown",
   "id": "7d7ea2ea",
   "metadata": {},
   "source": [
    "### Normalized Data"
   ]
  },
  {
   "cell_type": "code",
   "execution_count": 22,
   "id": "4c3f2b8d",
   "metadata": {},
   "outputs": [
    {
     "data": {
      "image/png": "[encoded data removed]",
      "text/plain": [
       "<Figure size 432x288 with 1 Axes>"
      ]
     },
     "metadata": {
      "needs_background": "light"
     },
     "output_type": "display_data"
    },
    {
     "data": {
      "image/png": "[encoded data removed]",
      "text/plain": [
       "<Figure size 432x288 with 1 Axes>"
      ]
     },
     "metadata": {
      "needs_background": "light"
     },
     "output_type": "display_data"
    },
    {
     "name": "stdout",
     "output_type": "stream",
     "text": [
      "The P-value is more than 0.05 so we can confirm that the dataset has normalized values.\n"
     ]
    },
    {
     "data": {
      "text/plain": [
       "ShapiroResult(statistic=0.9984463453292847, pvalue=0.520083487033844)"
      ]
     },
     "execution_count": 22,
     "metadata": {},
     "output_type": "execute_result"
    }
   ],
   "source": [
    "data = norm.rvs(size=1000)\n",
    "\n",
    "plt.hist(data, bins = 20)\n",
    "plt.title(\"DATA\")\n",
    "\n",
    "fig, ax = plt.subplots()\n",
    "stats.probplot(data, fit = True, plot = ax)\n",
    "plt.show()\n",
    "\n",
    "print(\"The P-value is more than 0.05 so we can confirm that the dataset has normalized values.\")\n",
    "stats.shapiro(data)\n"
   ]
  },
  {
   "cell_type": "markdown",
   "id": "180083b7",
   "metadata": {},
   "source": [
    "### Non Normalized Data"
   ]
  },
  {
   "cell_type": "code",
   "execution_count": 23,
   "id": "8e37c7fc",
   "metadata": {},
   "outputs": [
    {
     "data": {
      "image/png": "[encoded data removed]",
      "text/plain": [
       "<Figure size 432x288 with 1 Axes>"
      ]
     },
     "metadata": {
      "needs_background": "light"
     },
     "output_type": "display_data"
    },
    {
     "data": {
      "image/png": "[encoded data removed]",
      "text/plain": [
       "<Figure size 432x288 with 1 Axes>"
      ]
     },
     "metadata": {
      "needs_background": "light"
     },
     "output_type": "display_data"
    },
    {
     "name": "stdout",
     "output_type": "stream",
     "text": [
      "The P-value is less than 0.05 so we can confirm that the dataset does not have normalized values.\n"
     ]
    },
    {
     "data": {
      "text/plain": [
       "ShapiroResult(statistic=0.9669317007064819, pvalue=2.6879497908613263e-14)"
      ]
     },
     "execution_count": 23,
     "metadata": {},
     "output_type": "execute_result"
    }
   ],
   "source": [
    "data2 = skewnorm.rvs(4, size = 1000)\n",
    "plt.hist(data2, bins = 20)\n",
    "\n",
    "fig, ax = plt.subplots()\n",
    "stats.probplot(data2, fit = True, plot = ax)\n",
    "plt.show()\n",
    "\n",
    "print(\"The P-value is less than 0.05 so we can confirm that the dataset does not have normalized values.\")\n",
    "stats.shapiro(data2)\n"
   ]
  },
  {
   "cell_type": "markdown",
   "id": "43924f96",
   "metadata": {},
   "source": [
    "# Confidence Intervals"
   ]
  },
  {
   "cell_type": "code",
   "execution_count": 24,
   "id": "8942241f",
   "metadata": {},
   "outputs": [],
   "source": [
    "import statistics as stats\n",
    "salaries = [3000,4567,3420,3450,4530,3450,2340,6540,6543,7000]"
   ]
  },
  {
   "cell_type": "markdown",
   "id": "bb3d09b0",
   "metadata": {},
   "source": [
    "### 95%"
   ]
  },
  {
   "cell_type": "code",
   "execution_count": 25,
   "id": "1f585119",
   "metadata": {},
   "outputs": [
    {
     "name": "stdout",
     "output_type": "stream",
     "text": [
      "The salaries are between: 3453.57 and 5514.43. With a confidence of 95%\n"
     ]
    }
   ],
   "source": [
    "sample = 10\n",
    "z = 1.96\n",
    "average = np.mean(salaries)\n",
    "standardDeviation = stats.stdev(salaries)\n",
    "\n",
    "marginOfError = z*(standardDeviation/math.sqrt(sample))\n",
    "print(f\"The salaries are between: {round(average-marginOfError,2)} and {round(average+marginOfError, 2)}. With a confidence of 95%\")"
   ]
  },
  {
   "cell_type": "markdown",
   "id": "d89b76b6",
   "metadata": {},
   "source": [
    "### 99%"
   ]
  },
  {
   "cell_type": "code",
   "execution_count": 26,
   "id": "25627e5b",
   "metadata": {},
   "outputs": [
    {
     "name": "stdout",
     "output_type": "stream",
     "text": [
      "The salaries are between: 3127.62 and 5840.38. With a confidence of 99%\n"
     ]
    }
   ],
   "source": [
    "sample = 10\n",
    "z = 2.58 #99% confidence\n",
    "average = stats.mean(salaries)\n",
    "standardDeviation = stats.stdev(salaries)\n",
    "\n",
    "marginOfError = z*(standardDeviation/math.sqrt(sample))\n",
    "print(f\"The salaries are between: {round(average-marginOfError,2)} and {round(average+marginOfError, 2)}. With a confidence of 99%\")\n"
   ]
  },
  {
   "cell_type": "markdown",
   "id": "8e5cff8f",
   "metadata": {},
   "source": [
    "### Now knowing the variable"
   ]
  },
  {
   "cell_type": "code",
   "execution_count": 27,
   "id": "745118af",
   "metadata": {},
   "outputs": [
    {
     "name": "stdout",
     "output_type": "stream",
     "text": [
      "People would choose this value between: 0.67 and 0.73. With a confidence of 95%\n"
     ]
    }
   ],
   "source": [
    "sample = 1000\n",
    "z = 1.96\n",
    "value = 0.7 # 700 people out of 1000 would rather this value\n",
    "\n",
    "marginOfError = z * math.sqrt(value*(1-value)/sample)\n",
    "print(f\"People would choose this value between: {round(value-marginOfError,2)} and {round(value+marginOfError,2)}. With a confidence of 95%\")"
   ]
  },
  {
   "cell_type": "markdown",
   "id": "6774d52a",
   "metadata": {},
   "source": [
    "# T Student"
   ]
  },
  {
   "cell_type": "code",
   "execution_count": 28,
   "id": "54ee17aa",
   "metadata": {},
   "outputs": [
    {
     "name": "stdout",
     "output_type": "stream",
     "text": [
      "Salary average of a data scientist is $20 per hour. Sample is 9 and the standard variation is 10.\n",
      "First we need to get the T value: \n",
      "T value:  0.3333333333333333\n",
      "What is the probability of getting a salary below $30\n",
      "0.626741499168916\n",
      "What is the probability of getting a salary higher $30\n",
      "0.3732585008310841\n"
     ]
    }
   ],
   "source": [
    "from scipy.stats import t\n",
    "\n",
    "print(\"Salary average of a data scientist is $20 per hour. Sample is 9 and the standard variation is 10.\")\n",
    "print(\"First we need to get the T value: \")\n",
    "t_table_value = (30-20)/10/math.sqrt(9)\n",
    "print(\"T value: \",t_table_value)\n",
    "\n",
    "print(\"What is the probability of getting a salary below $30\")\n",
    "print(t.cdf(t_table_value,9))\n",
    "\n",
    "print(\"What is the probability of getting a salary higher $30\")\n",
    "print(t.sf(t_table_value,9))\n"
   ]
  },
  {
   "cell_type": "markdown",
   "id": "523c72da",
   "metadata": {},
   "source": [
    "# Hypothesis Test"
   ]
  },
  {
   "cell_type": "markdown",
   "id": "3a67e7a7",
   "metadata": {},
   "source": [
    "### First test"
   ]
  },
  {
   "cell_type": "code",
   "execution_count": 29,
   "id": "330c80de",
   "metadata": {},
   "outputs": [
    {
     "name": "stdout",
     "output_type": "stream",
     "text": [
      "Hypothesis: An institute claims that on average, 75% of the people vote for Mike. Null Hypothesis >= 0.75 /// Alternative Hypothesis < 0.75\n",
      "The Z value is 0.46188021535170104. So we need to look on the Z table the P-value. In this case is 0.6772. So as this number is higher than 0.05. So the null hypothesis is true.\n"
     ]
    }
   ],
   "source": [
    "print(\"Hypothesis: An institute claims that on average, 75% of the people vote for Mike. Null Hypothesis >= 0.75 /// Alternative Hypothesis < 0.75\")\n",
    "n = 100\n",
    "p = 0.77\n",
    "\n",
    "Z = (p-0.75)/math.sqrt(0.75*(1-0.75)/n)\n",
    "\n",
    "print(f\"The Z value is {Z}. So we need to look on the Z table the P-value. In this case is 0.6772. So as this number is higher than 0.05. So the null hypothesis is true.\")"
   ]
  },
  {
   "cell_type": "markdown",
   "id": "d67e2652",
   "metadata": {},
   "source": [
    "### Second test"
   ]
  },
  {
   "cell_type": "code",
   "execution_count": 30,
   "id": "90317617",
   "metadata": {},
   "outputs": [
    {
     "name": "stdout",
     "output_type": "stream",
     "text": [
      "Hypothesis: On Average, six years old children weight 22kg. Null hypothesis <= 22kg /// Alternative hypothesis > 22kg.\n",
      "The Z value is 0.25. So we need to look on the Z table the P-value. In this case is 0.9938. But we need the rest, because the Alternative hypothesis is higher that, so we need to subtract. 1-0.9938.\n",
      "0.006199999999999983\n",
      "So as this number is lower than 0.05. So the null hypothesis is false.\n"
     ]
    }
   ],
   "source": [
    "print(\"Hypothesis: On Average, six years old children weight 22kg. Null hypothesis <= 22kg /// Alternative hypothesis > 22kg.\")\n",
    "\n",
    "n = 100\n",
    "sixYOChildrenMean = 23\n",
    "standardDeviation = 4\n",
    "\n",
    "Z = (sixYOChildrenMean-22)/(standardDeviation/math.sqrt(n))\n",
    "Z\n",
    "\n",
    "print(\"The Z value is 0.25. So we need to look on the Z table the P-value. In this case is 0.9938. But we need the rest, because the Alternative hypothesis is higher that, so we need to subtract. 1-0.9938.\")\n",
    "\n",
    "print(1-0.9938)\n",
    "\n",
    "print(\"So as this number is lower than 0.05. So the null hypothesis is false.\")"
   ]
  },
  {
   "cell_type": "markdown",
   "id": "ae0f9cc2",
   "metadata": {},
   "source": [
    "# Poisson Test"
   ]
  },
  {
   "cell_type": "code",
   "execution_count": 31,
   "id": "06545a71",
   "metadata": {},
   "outputs": [
    {
     "name": "stdout",
     "output_type": "stream",
     "text": [
      "The average of car crashing is 2 per day, what is the probability of 3?\n",
      "0.18044704431548356\n",
      "The average of car crashing is 2 per day, what is the probability of less than 3?\n",
      "0.857123460498547\n",
      "The average of car crashing is 2 per day, what is the probability of more than 3?\n",
      "0.14287653950145296\n"
     ]
    }
   ],
   "source": [
    "from scipy.stats import poisson\n",
    "print(\"The average of car crashing is 2 per day, what is the probability of 3?\")\n",
    "print(poisson.pmf(3,2))\n",
    "print(\"The average of car crashing is 2 per day, what is the probability of less than 3?\")\n",
    "print(poisson.cdf(3,2))\n",
    "print(\"The average of car crashing is 2 per day, what is the probability of more than 3?\")\n",
    "print(poisson.sf(3,2))"
   ]
  },
  {
   "cell_type": "markdown",
   "id": "393b8e25",
   "metadata": {},
   "source": [
    "# Chi Square"
   ]
  },
  {
   "cell_type": "code",
   "execution_count": 32,
   "id": "755223c9",
   "metadata": {},
   "outputs": [],
   "source": [
    "from scipy.stats import chi2_contingency"
   ]
  },
  {
   "cell_type": "markdown",
   "id": "32380fac",
   "metadata": {},
   "source": [
    "### First"
   ]
  },
  {
   "cell_type": "code",
   "execution_count": 33,
   "id": "87c05c17",
   "metadata": {},
   "outputs": [
    {
     "name": "stdout",
     "output_type": "stream",
     "text": [
      "[[19  6]\n",
      " [43 32]]\n",
      "***********\n",
      "On this test the p value is 0.15. So we can confirm that there is not a significant different between men and women.\n",
      "(2.037351443123939, 0.15347667161786666, 1, array([[15.5,  9.5],\n",
      "       [46.5, 28.5]]))\n"
     ]
    }
   ],
   "source": [
    "df = np.array([[19,6], [43,32]])\n",
    "print(df)\n",
    "print(\"***********\")\n",
    "print(\"On this test the p value is 0.15. So we can confirm that there is not a significant different between men and women.\")\n",
    "print(chi2_contingency(df))"
   ]
  },
  {
   "cell_type": "markdown",
   "id": "28248bf8",
   "metadata": {},
   "source": [
    "### Second"
   ]
  },
  {
   "cell_type": "code",
   "execution_count": 34,
   "id": "0eca6f56",
   "metadata": {},
   "outputs": [
    {
     "name": "stdout",
     "output_type": "stream",
     "text": [
      "[[22  3]\n",
      " [43 32]]\n",
      "***********\n",
      "On this test the p value is 0.01. So we can confirm that there is a significant different between men and women.\n",
      "(6.461538461538461, 0.011023416388221425, 1, array([[16.25,  8.75],\n",
      "       [48.75, 26.25]]))\n"
     ]
    }
   ],
   "source": [
    "df = np.array([[22,3], [43,32]])\n",
    "print(df)\n",
    "print(\"***********\")\n",
    "print(\"On this test the p value is 0.01. So we can confirm that there is a significant different between men and women.\")\n",
    "print(chi2_contingency(df))"
   ]
  },
  {
   "cell_type": "markdown",
   "id": "badcc373",
   "metadata": {},
   "source": [
    "# Binomal Distribution"
   ]
  },
  {
   "cell_type": "code",
   "execution_count": 35,
   "id": "dd4278c1",
   "metadata": {},
   "outputs": [],
   "source": [
    "from scipy.stats import binom"
   ]
  },
  {
   "cell_type": "markdown",
   "id": "641632ec",
   "metadata": {},
   "source": [
    "### First"
   ]
  },
  {
   "cell_type": "code",
   "execution_count": 36,
   "id": "ce8f40ee",
   "metadata": {},
   "outputs": [
    {
     "name": "stdout",
     "output_type": "stream",
     "text": [
      "If you flip a coin five times, what is the probability of tails three times in a row?: \n",
      "0.31249999999999983\n"
     ]
    }
   ],
   "source": [
    "print(\"If you flip a coin five times, what is the probability of tails three times in a row?: \")\n",
    "print(binom.pmf(3,5,0.5))"
   ]
  },
  {
   "cell_type": "markdown",
   "id": "6f147c6b",
   "metadata": {},
   "source": [
    "### Second"
   ]
  },
  {
   "cell_type": "code",
   "execution_count": 37,
   "id": "76a86258",
   "metadata": {},
   "outputs": [
    {
     "name": "stdout",
     "output_type": "stream",
     "text": [
      "What is the probability of passing four green lights in a row?\n",
      "The total event probability is 0.9960937500000002\n",
      "The probability of passing four green light is 0.00390625\n"
     ]
    }
   ],
   "source": [
    "print(\"What is the probability of passing four green lights in a row?\")\n",
    "\n",
    "prob = 0\n",
    "for i in range(4):\n",
    "    prob = prob + binom.pmf(i,4,0.25)\n",
    "    \n",
    "print(f\"The total event probability is {prob}\")\n",
    "print(f\"The probability of passing four green light is {binom.pmf(4,4,0.25)}\")"
   ]
  },
  {
   "cell_type": "markdown",
   "id": "3e08df3d",
   "metadata": {},
   "source": [
    "### Third"
   ]
  },
  {
   "cell_type": "code",
   "execution_count": 38,
   "id": "185cbe0c",
   "metadata": {},
   "outputs": [
    {
     "name": "stdout",
     "output_type": "stream",
     "text": [
      "We are doing a test with 12 questions, by guessing, what is the probability of getting rights 7 questions (4 choices per question)\n",
      "0.011471271514892587\n",
      "We are doing a test with 12 questions, by guessing, what is the probability of getting rights 12 questions (4 choices per question)\n",
      "5.960464477539063e-08\n"
     ]
    }
   ],
   "source": [
    "print(\"We are doing a test with 12 questions, by guessing, what is the probability of getting rights 7 questions (4 choices per question)\")\n",
    "print(binom.pmf(7,12,0.25))\n",
    "\n",
    "print(\"We are doing a test with 12 questions, by guessing, what is the probability of getting rights 12 questions (4 choices per question)\")\n",
    "print(binom.pmf(12,12,0.25))"
   ]
  },
  {
   "cell_type": "markdown",
   "id": "6597c9b3",
   "metadata": {},
   "source": [
    "# ANOVA"
   ]
  },
  {
   "cell_type": "code",
   "execution_count": 39,
   "id": "2a7af50e",
   "metadata": {},
   "outputs": [],
   "source": [
    "import pandas as pd\n",
    "from scipy import stats\n",
    "import statsmodels.api as sm\n",
    "from statsmodels.formula.api import ols\n",
    "from statsmodels.stats.multicomp import MultiComparison"
   ]
  },
  {
   "cell_type": "markdown",
   "id": "797f86a3",
   "metadata": {},
   "source": [
    "### Dataset and Exploratory data analysis"
   ]
  },
  {
   "cell_type": "code",
   "execution_count": 40,
   "id": "f6b3313e",
   "metadata": {},
   "outputs": [
    {
     "name": "stdout",
     "output_type": "stream",
     "text": [
      "  Sexo Remedio  Horas\n",
      "0    F       A      5\n",
      "1    F       A     10\n",
      "2    F       A      7\n",
      "3    F       A      7\n",
      "4    M       A      7\n"
     ]
    },
    {
     "data": {
      "text/plain": [
       "<AxesSubplot:title={'center':'Horas'}, xlabel='[Remedio]'>"
      ]
     },
     "execution_count": 40,
     "metadata": {},
     "output_type": "execute_result"
    },
    {
     "data": {
      "image/png": "[encoded data removed]",
      "text/plain": [
       "<Figure size 432x288 with 1 Axes>"
      ]
     },
     "metadata": {
      "needs_background": "light"
     },
     "output_type": "display_data"
    }
   ],
   "source": [
    "df = pd.read_csv(\"anova.csv\", sep = \";\")\n",
    "print(df.head())\n",
    "\n",
    "df.boxplot(by = \"Remedio\", grid = False)"
   ]
  },
  {
   "cell_type": "markdown",
   "id": "dca89b5a",
   "metadata": {},
   "source": [
    "### Regression Model"
   ]
  },
  {
   "cell_type": "markdown",
   "id": "53f4159a",
   "metadata": {},
   "source": [
    "#### Regression model creation for two variables. The P value is higher than 0.05, so the null hypothesis cannot be rejected."
   ]
  },
  {
   "cell_type": "code",
   "execution_count": 41,
   "id": "6806742a",
   "metadata": {},
   "outputs": [
    {
     "data": {
      "text/html": [
       "<div>\n",
       "<style scoped>\n",
       "    .dataframe tbody tr th:only-of-type {\n",
       "        vertical-align: middle;\n",
       "    }\n",
       "\n",
       "    .dataframe tbody tr th {\n",
       "        vertical-align: top;\n",
       "    }\n",
       "\n",
       "    .dataframe thead th {\n",
       "        text-align: right;\n",
       "    }\n",
       "</style>\n",
       "<table border=\"1\" class=\"dataframe\">\n",
       "  <thead>\n",
       "    <tr style=\"text-align: right;\">\n",
       "      <th></th>\n",
       "      <th>df</th>\n",
       "      <th>sum_sq</th>\n",
       "      <th>mean_sq</th>\n",
       "      <th>F</th>\n",
       "      <th>PR(&gt;F)</th>\n",
       "    </tr>\n",
       "  </thead>\n",
       "  <tbody>\n",
       "    <tr>\n",
       "      <th>Remedio</th>\n",
       "      <td>2.0</td>\n",
       "      <td>4.083333</td>\n",
       "      <td>2.041667</td>\n",
       "      <td>0.537618</td>\n",
       "      <td>0.591966</td>\n",
       "    </tr>\n",
       "    <tr>\n",
       "      <th>Residual</th>\n",
       "      <td>21.0</td>\n",
       "      <td>79.750000</td>\n",
       "      <td>3.797619</td>\n",
       "      <td>NaN</td>\n",
       "      <td>NaN</td>\n",
       "    </tr>\n",
       "  </tbody>\n",
       "</table>\n",
       "</div>"
      ],
      "text/plain": [
       "            df     sum_sq   mean_sq         F    PR(>F)\n",
       "Remedio    2.0   4.083333  2.041667  0.537618  0.591966\n",
       "Residual  21.0  79.750000  3.797619       NaN       NaN"
      ]
     },
     "execution_count": 41,
     "metadata": {},
     "output_type": "execute_result"
    }
   ],
   "source": [
    "model_A = ols(\"Horas ~ Remedio\", data = df ).fit()\n",
    "results_A = sm.stats.anova_lm(model_A)\n",
    "results_A"
   ]
  },
  {
   "cell_type": "markdown",
   "id": "c3673a44",
   "metadata": {},
   "source": [
    "#### Regression model creation for all variables. The P value is higher than 0.05, so the null hypothesis cannot be rejected."
   ]
  },
  {
   "cell_type": "code",
   "execution_count": 42,
   "id": "e6c6ec22",
   "metadata": {},
   "outputs": [
    {
     "data": {
      "text/html": [
       "<div>\n",
       "<style scoped>\n",
       "    .dataframe tbody tr th:only-of-type {\n",
       "        vertical-align: middle;\n",
       "    }\n",
       "\n",
       "    .dataframe tbody tr th {\n",
       "        vertical-align: top;\n",
       "    }\n",
       "\n",
       "    .dataframe thead th {\n",
       "        text-align: right;\n",
       "    }\n",
       "</style>\n",
       "<table border=\"1\" class=\"dataframe\">\n",
       "  <thead>\n",
       "    <tr style=\"text-align: right;\">\n",
       "      <th></th>\n",
       "      <th>df</th>\n",
       "      <th>sum_sq</th>\n",
       "      <th>mean_sq</th>\n",
       "      <th>F</th>\n",
       "      <th>PR(&gt;F)</th>\n",
       "    </tr>\n",
       "  </thead>\n",
       "  <tbody>\n",
       "    <tr>\n",
       "      <th>Remedio</th>\n",
       "      <td>2.0</td>\n",
       "      <td>4.083333</td>\n",
       "      <td>2.041667</td>\n",
       "      <td>0.532609</td>\n",
       "      <td>0.596042</td>\n",
       "    </tr>\n",
       "    <tr>\n",
       "      <th>Sexo</th>\n",
       "      <td>1.0</td>\n",
       "      <td>4.166667</td>\n",
       "      <td>4.166667</td>\n",
       "      <td>1.086957</td>\n",
       "      <td>0.310948</td>\n",
       "    </tr>\n",
       "    <tr>\n",
       "      <th>Remedio:Sexo</th>\n",
       "      <td>2.0</td>\n",
       "      <td>6.583333</td>\n",
       "      <td>3.291667</td>\n",
       "      <td>0.858696</td>\n",
       "      <td>0.440360</td>\n",
       "    </tr>\n",
       "    <tr>\n",
       "      <th>Residual</th>\n",
       "      <td>18.0</td>\n",
       "      <td>69.000000</td>\n",
       "      <td>3.833333</td>\n",
       "      <td>NaN</td>\n",
       "      <td>NaN</td>\n",
       "    </tr>\n",
       "  </tbody>\n",
       "</table>\n",
       "</div>"
      ],
      "text/plain": [
       "                df     sum_sq   mean_sq         F    PR(>F)\n",
       "Remedio        2.0   4.083333  2.041667  0.532609  0.596042\n",
       "Sexo           1.0   4.166667  4.166667  1.086957  0.310948\n",
       "Remedio:Sexo   2.0   6.583333  3.291667  0.858696  0.440360\n",
       "Residual      18.0  69.000000  3.833333       NaN       NaN"
      ]
     },
     "execution_count": 42,
     "metadata": {},
     "output_type": "execute_result"
    }
   ],
   "source": [
    "model_B = ols(\"Horas ~ Remedio * Sexo\", data = df ).fit()\n",
    "results_B = sm.stats.anova_lm(model_B)\n",
    "results_B"
   ]
  },
  {
   "cell_type": "markdown",
   "id": "e2cc8936",
   "metadata": {},
   "source": [
    "#### Applying the TurkeyHSD test. On the three variables the null hypothesis cannot be reject."
   ]
  },
  {
   "cell_type": "code",
   "execution_count": 43,
   "id": "50e5f3b6",
   "metadata": {},
   "outputs": [
    {
     "name": "stdout",
     "output_type": "stream",
     "text": [
      "Multiple Comparison of Means - Tukey HSD, FWER=0.05\n",
      "=================================================\n",
      "group1 group2 meandiff p-adj  lower  upper reject\n",
      "-------------------------------------------------\n",
      "     A      B   -0.625 0.7991 -3.081 1.831  False\n",
      "     A      C    0.375 0.9219 -2.081 2.831  False\n",
      "     B      C      1.0 0.5689 -1.456 3.456  False\n",
      "-------------------------------------------------\n"
     ]
    }
   ],
   "source": [
    "mc = MultiComparison(df[\"Horas\"], df[\"Remedio\"])\n",
    "test_result = mc.tukeyhsd()\n",
    "print(test_result)"
   ]
  },
  {
   "cell_type": "markdown",
   "id": "80950c98",
   "metadata": {},
   "source": [
    "#### Data Visualization"
   ]
  },
  {
   "cell_type": "code",
   "execution_count": 44,
   "id": "56e1b9ab",
   "metadata": {},
   "outputs": [
    {
     "data": {
      "image/png": "[encoded data removed]",
      "text/plain": [
       "<Figure size 720x432 with 1 Axes>"
      ]
     },
     "execution_count": 44,
     "metadata": {},
     "output_type": "execute_result"
    },
    {
     "data": {
      "image/png": "[encoded data removed]",
      "text/plain": [
       "<Figure size 720x432 with 1 Axes>"
      ]
     },
     "metadata": {
      "needs_background": "light"
     },
     "output_type": "display_data"
    }
   ],
   "source": [
    "test_result.plot_simultaneous()"
   ]
  }
 ],
 "metadata": {
  "kernelspec": {
   "display_name": "Python 3 (ipykernel)",
   "language": "python",
   "name": "python3"
  },
  "language_info": {
   "codemirror_mode": {
    "name": "ipython",
    "version": 3
   },
   "file_extension": ".py",
   "mimetype": "text/x-python",
   "name": "python",
   "nbconvert_exporter": "python",
   "pygments_lexer": "ipython3",
   "version": "3.9.7"
  }
 },
 "nbformat": 4,
 "nbformat_minor": 5
}
