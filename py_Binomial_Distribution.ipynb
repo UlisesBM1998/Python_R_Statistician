{
 "cells": [
  {
   "cell_type": "code",
   "execution_count": 1,
   "id": "b86fb810",
   "metadata": {},
   "outputs": [],
   "source": [
    "from scipy.stats import binom"
   ]
  },
  {
   "cell_type": "markdown",
   "id": "b92a7e59",
   "metadata": {},
   "source": [
    "If you flip a coin five times, what is the probability of tails three times in a row?"
   ]
  },
  {
   "cell_type": "code",
   "execution_count": 3,
   "id": "c8197af4",
   "metadata": {},
   "outputs": [
    {
     "data": {
      "text/plain": [
       "0.31249999999999983"
      ]
     },
     "execution_count": 3,
     "metadata": {},
     "output_type": "execute_result"
    }
   ],
   "source": [
    "prob = binom.pmf(3,5,0.5)\n",
    "prob"
   ]
  },
  {
   "cell_type": "markdown",
   "id": "b18a6b15",
   "metadata": {},
   "source": [
    "What is the probability of passing four green lights in a row?"
   ]
  },
  {
   "cell_type": "code",
   "execution_count": 11,
   "id": "a62998fc",
   "metadata": {},
   "outputs": [
    {
     "name": "stdout",
     "output_type": "stream",
     "text": [
      "The total event probability is 0.9960937500000002\n",
      "The probability of passing four green light is 0.00390625\n"
     ]
    }
   ],
   "source": [
    "prob = 0\n",
    "for i in range(4):\n",
    "    prob = prob + binom.pmf(i,4,0.25)\n",
    "    \n",
    "print(f\"The total event probability is {prob}\")\n",
    "print(f\"The probability of passing four green light is {binom.pmf(4,4,0.25)}\")"
   ]
  },
  {
   "cell_type": "markdown",
   "id": "e74595a1",
   "metadata": {},
   "source": [
    "We are doing a test with 12 questions, by guessing, what is the probability of getting rights 7 questions (4 choices per question)\n"
   ]
  },
  {
   "cell_type": "code",
   "execution_count": 12,
   "id": "c7df6518",
   "metadata": {},
   "outputs": [
    {
     "data": {
      "text/plain": [
       "1.1471271514892587"
      ]
     },
     "execution_count": 12,
     "metadata": {},
     "output_type": "execute_result"
    }
   ],
   "source": [
    "binom.pmf(7,12,0.25)*100"
   ]
  },
  {
   "cell_type": "markdown",
   "id": "1b4e05c6",
   "metadata": {},
   "source": [
    "We are doing a test with 12 questions, by guessing, what is the probability of getting rights 7 questions (4 choices per question)\n"
   ]
  },
  {
   "cell_type": "code",
   "execution_count": 13,
   "id": "3dd998d7",
   "metadata": {},
   "outputs": [
    {
     "data": {
      "text/plain": [
       "5.9604644775390625e-06"
      ]
     },
     "execution_count": 13,
     "metadata": {},
     "output_type": "execute_result"
    }
   ],
   "source": [
    "binom.pmf(12,12,0.25)*100"
   ]
  }
 ],
 "metadata": {
  "kernelspec": {
   "display_name": "Python 3 (ipykernel)",
   "language": "python",
   "name": "python3"
  },
  "language_info": {
   "codemirror_mode": {
    "name": "ipython",
    "version": 3
   },
   "file_extension": ".py",
   "mimetype": "text/x-python",
   "name": "python",
   "nbconvert_exporter": "python",
   "pygments_lexer": "ipython3",
   "version": "3.9.7"
  }
 },
 "nbformat": 4,
 "nbformat_minor": 5
}
