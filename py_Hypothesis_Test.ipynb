{
 "cells": [
  {
   "cell_type": "code",
   "execution_count": 1,
   "id": "b42d7214",
   "metadata": {},
   "outputs": [],
   "source": [
    "import math"
   ]
  },
  {
   "cell_type": "markdown",
   "id": "da1e6cd8",
   "metadata": {},
   "source": [
    "# FIRST TEST"
   ]
  },
  {
   "cell_type": "markdown",
   "id": "23ba0768",
   "metadata": {},
   "source": [
    "Hypothesis: An institute claims that on average, 75% of the people vote for Mike.\n",
    "Null Hypothesis = 0.75 ///\n",
    "Alternative Hypothesis < 0.75"
   ]
  },
  {
   "cell_type": "code",
   "execution_count": 4,
   "id": "7a0c0e5d",
   "metadata": {},
   "outputs": [
    {
     "data": {
      "text/plain": [
       "0.46188021535170104"
      ]
     },
     "execution_count": 4,
     "metadata": {},
     "output_type": "execute_result"
    }
   ],
   "source": [
    "n = 100\n",
    "p = 0.77\n",
    "\n",
    "Z = (p-0.75)/math.sqrt(0.75*(1-0.75)/n)\n",
    "Z"
   ]
  },
  {
   "cell_type": "markdown",
   "id": "1a611ea0",
   "metadata": {},
   "source": [
    "The Z value is 0.461. So we need to look on the Z table the P-value. In this case is 0.6772. So as this number is higher than 0.05. So the null hypothesis is true."
   ]
  },
  {
   "cell_type": "markdown",
   "id": "c7854b81",
   "metadata": {},
   "source": [
    "# SECOND TEST"
   ]
  },
  {
   "cell_type": "markdown",
   "id": "83fa5211",
   "metadata": {},
   "source": [
    "Hypothesis: On Average, six years old children weight 22kg. Null hypothesis = 22kg /// Alternative hypothesis > 22kg."
   ]
  },
  {
   "cell_type": "code",
   "execution_count": 5,
   "id": "8ac2ab68",
   "metadata": {},
   "outputs": [
    {
     "data": {
      "text/plain": [
       "2.5"
      ]
     },
     "execution_count": 5,
     "metadata": {},
     "output_type": "execute_result"
    }
   ],
   "source": [
    "n = 100\n",
    "sixYOChildrenMean = 23\n",
    "standardDeviation = 4\n",
    "\n",
    "Z = (sixYOChildrenMean-22)/(standardDeviation/math.sqrt(n))\n",
    "Z"
   ]
  },
  {
   "cell_type": "markdown",
   "id": "7dc44605",
   "metadata": {},
   "source": [
    "The Z value is 0.25. So we need to look on the Z table the P-value. In this case is 0.9938. But we need the rest, because the Alternative hypothesis is higher that, so we need to subtract. 1-0.9938."
   ]
  },
  {
   "cell_type": "code",
   "execution_count": 6,
   "id": "76729404",
   "metadata": {},
   "outputs": [
    {
     "data": {
      "text/plain": [
       "0.006199999999999983"
      ]
     },
     "execution_count": 6,
     "metadata": {},
     "output_type": "execute_result"
    }
   ],
   "source": [
    "1-0.9938"
   ]
  },
  {
   "cell_type": "markdown",
   "id": "0bf97f0b",
   "metadata": {},
   "source": [
    "So as this number is lower than 0.05. So the null hypothesis is false."
   ]
  }
 ],
 "metadata": {
  "kernelspec": {
   "display_name": "Python 3 (ipykernel)",
   "language": "python",
   "name": "python3"
  },
  "language_info": {
   "codemirror_mode": {
    "name": "ipython",
    "version": 3
   },
   "file_extension": ".py",
   "mimetype": "text/x-python",
   "name": "python",
   "nbconvert_exporter": "python",
   "pygments_lexer": "ipython3",
   "version": "3.9.7"
  }
 },
 "nbformat": 4,
 "nbformat_minor": 5
}
